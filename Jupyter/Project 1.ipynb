{
 "cells": [
  {
   "cell_type": "markdown",
   "metadata": {},
   "source": [
    "# AI Project 1\n",
    "## Arman Rostami"
   ]
  },
  {
   "cell_type": "markdown",
   "metadata": {},
   "source": [
    "In this project we'll try to solve the **2 agent pacman problem** using two uninformed search algorithms named bfs and ids; and an informed search algorithm called A*."
   ]
  },
  {
   "cell_type": "markdown",
   "metadata": {},
   "source": [
    "## Initializations\n",
    "Adding necessary libraries"
   ]
  },
  {
   "cell_type": "code",
   "execution_count": 1,
   "metadata": {},
   "outputs": [],
   "source": [
    "import collections\n",
    "import copy\n",
    "import math"
   ]
  },
  {
   "cell_type": "markdown",
   "metadata": {},
   "source": [
    "Defining constants:"
   ]
  },
  {
   "cell_type": "code",
   "execution_count": 2,
   "metadata": {},
   "outputs": [],
   "source": [
    "P_MAN = 'P'\n",
    "Q_MAN = 'Q'\n",
    "WALL = '%'\n",
    "P_FOOD = '1'\n",
    "Q_FOOD = '2'\n",
    "B_FOOD = '3'\n",
    "EMPTY = ' '\n",
    "FILENAME = 'test5'"
   ]
  },
  {
   "cell_type": "markdown",
   "metadata": {},
   "source": [
    "## Helper Functions"
   ]
  },
  {
   "cell_type": "markdown",
   "metadata": {},
   "source": [
    "### Read map\n",
    "The function below reads the map from file and returns a 2d list containing map characters."
   ]
  },
  {
   "cell_type": "code",
   "execution_count": 3,
   "metadata": {},
   "outputs": [],
   "source": [
    "def read_map(filename):\n",
    "    file = open(filename)\n",
    "    input_map = []\n",
    "    \n",
    "    for line in file:\n",
    "        if line[-1] == '\\n':\n",
    "            input_map.append(list(line[:-1]))\n",
    "        else:\n",
    "            input_map.append(list(line))\n",
    "    \n",
    "    return input_map"
   ]
  },
  {
   "cell_type": "markdown",
   "metadata": {},
   "source": [
    "Reading input map globally:"
   ]
  },
  {
   "cell_type": "code",
   "execution_count": 4,
   "metadata": {},
   "outputs": [],
   "source": [
    "input_map = read_map(FILENAME)"
   ]
  },
  {
   "cell_type": "markdown",
   "metadata": {},
   "source": [
    "### Get pacmans locations\n",
    "Following function returns the location of specified pacman as a tuple of x, y location."
   ]
  },
  {
   "cell_type": "code",
   "execution_count": 5,
   "metadata": {},
   "outputs": [],
   "source": [
    "def get_man_location(man):\n",
    "    for i, line in enumerate(input_map):\n",
    "        for j, char in enumerate(line):\n",
    "            if char == man:\n",
    "                return (i, j)"
   ]
  },
  {
   "cell_type": "markdown",
   "metadata": {},
   "source": [
    "### Get foods locations\n",
    "We use the function below which returns foods of specified type as a list of tuples representing x, y locations."
   ]
  },
  {
   "cell_type": "code",
   "execution_count": 6,
   "metadata": {},
   "outputs": [],
   "source": [
    "def get_foods_location(food):\n",
    "    foods = []\n",
    "    for i, line in enumerate(input_map):\n",
    "        for j, char in enumerate(line):\n",
    "            if char == food:\n",
    "                foods.append((i, j))\n",
    "    return foods"
   ]
  },
  {
   "cell_type": "markdown",
   "metadata": {},
   "source": [
    "### Print state branch\n",
    "Following functions are used to print changes on map on each action utill the given state is reached."
   ]
  },
  {
   "cell_type": "code",
   "execution_count": 7,
   "metadata": {},
   "outputs": [],
   "source": [
    "def get_state_map(state):\n",
    "    state_map = [ [' '] * len(input_map[0]) for _ in range(len(input_map))]\n",
    "    \n",
    "    state_map[state.p_man[0]][state.p_man[1]] = P_MAN\n",
    "    state_map[state.q_man[0]][state.q_man[1]] = Q_MAN\n",
    "    \n",
    "    for food in state.p_foods:\n",
    "        state_map[food[0]][food[1]] = P_FOOD\n",
    "        \n",
    "    for food in state.q_foods:\n",
    "        state_map[food[0]][food[1]] = Q_FOOD\n",
    "\n",
    "    for food in state.b_foods:\n",
    "        state_map[food[0]][food[1]] = B_FOOD   \n",
    "        \n",
    "    for i, line in enumerate(input_map):\n",
    "        for j, char in enumerate(line):\n",
    "            if char == WALL:\n",
    "                state_map[i][j] = WALL\n",
    "    \n",
    "    return state_map"
   ]
  },
  {
   "cell_type": "code",
   "execution_count": 8,
   "metadata": {},
   "outputs": [],
   "source": [
    "def print_state_map(state_map):\n",
    "    for line in state_map:\n",
    "        print(''.join(line))"
   ]
  },
  {
   "cell_type": "code",
   "execution_count": 9,
   "metadata": {},
   "outputs": [],
   "source": [
    "def print_state_branch(state):\n",
    "    s = collections.deque()\n",
    "    \n",
    "    while state:\n",
    "        s.append(state)\n",
    "        state = state.parent\n",
    "        \n",
    "    while s:\n",
    "        state = s.pop()\n",
    "        state_map = get_state_map(state)\n",
    "        print_state_map(state_map)\n",
    "        print('-' * 25)"
   ]
  },
  {
   "cell_type": "markdown",
   "metadata": {},
   "source": [
    "### Show state results"
   ]
  },
  {
   "cell_type": "markdown",
   "metadata": {},
   "source": [
    "The function below is used to show some details about the goal state including state depth, states count and unique states count."
   ]
  },
  {
   "cell_type": "code",
   "execution_count": 10,
   "metadata": {},
   "outputs": [],
   "source": [
    "def finalize(state, states_count, uniques_count):\n",
    "    print(\"Depth: %s\" % state.depth)\n",
    "    print(\"States Count: %s\" % states_count)\n",
    "    print(\"Unique States Count: %d\" % uniques_count)"
   ]
  },
  {
   "cell_type": "markdown",
   "metadata": {},
   "source": [
    "## Search Characteristic\n",
    "The problem is modeled to a search problem using the following components:"
   ]
  },
  {
   "cell_type": "markdown",
   "metadata": {},
   "source": [
    "### States\n",
    "States of this problem consist os locations of current P and Q pacmans and foods on map. The implementation of State class is shown below:"
   ]
  },
  {
   "cell_type": "code",
   "execution_count": 11,
   "metadata": {},
   "outputs": [],
   "source": [
    "class State:\n",
    "    def __init__(self, parent, depth, p_man, q_man, p_foods, q_foods, b_foods):\n",
    "        self.parent = parent\n",
    "        self.depth = depth\n",
    "        self.p_man = p_man\n",
    "        self.q_man = q_man\n",
    "        self.p_foods = p_foods\n",
    "        self.q_foods = q_foods\n",
    "        self.b_foods = b_foods\n",
    "        \n",
    "    def __eq__(self, other):\n",
    "        return (self.p_man == other.p_man and\n",
    "                self.q_man == other.q_man and\n",
    "                self.p_foods == other.p_foods and\n",
    "                self.q_foods == other.q_foods and\n",
    "                self.b_foods == other.b_foods)\n",
    "    \n",
    "    def __lt__(self, other):\n",
    "        return self.depth + get_heuristic(self) < other.depth + get_heuristic(other)\n",
    "    \n",
    "    def __hash__(self):\n",
    "        return hash((self.p_man, self.q_man, str(self.p_foods), str(self.q_foods), str(self.b_foods)))\n",
    "    \n",
    "    def get_child(self):\n",
    "        new_p_man = copy.deepcopy(self.p_man)\n",
    "        new_q_man = copy.deepcopy(self.q_man)\n",
    "        new_p_foods = copy.deepcopy(self.p_foods)\n",
    "        new_q_foods = copy.deepcopy(self.q_foods)\n",
    "        new_b_foods = copy.deepcopy(self.b_foods)\n",
    "        \n",
    "        return State(self, self.depth + 1, new_p_man, new_q_man, new_p_foods, new_q_foods, new_b_foods)"
   ]
  },
  {
   "cell_type": "markdown",
   "metadata": {},
   "source": [
    "`p_man` represents **P** pacman location, `q_man` represents **Q** pacman location and `p_foods`, `q_foods`, `b_foods` represent locations of legal foods for **P** pacman, **Q** pacman and both pacmans respectively.\n",
    "\n",
    "Some node specifications are also stored on State class to speed up the program which are `parent` which indicates creator (parent) of the current state and `depth` which indicates depth of the reaching state in state space tree.\n",
    "\n",
    "\n",
    "Functions `__eq__` and `__hash__` use pacmans and foods locations to distinguish between different states.\n",
    "\n",
    "`__lt__` function is used to calculate the f(n) function of node n in the A* search algorithm.\n",
    "\n",
    "Function `get_child` is used to get a child state of calling state with parent equal to calling state and depth equal to calling state's depth + 1 and other variables equal to parent."
   ]
  },
  {
   "cell_type": "markdown",
   "metadata": {},
   "source": [
    "### Initial State\n",
    "The first state consists of initial locations of pacmans and foods in map. The following function is used to create initial state."
   ]
  },
  {
   "cell_type": "code",
   "execution_count": 12,
   "metadata": {},
   "outputs": [],
   "source": [
    "def create_initial_state():\n",
    "    depth = 0\n",
    "    parent = None\n",
    "    p_man = get_man_location(P_MAN)\n",
    "    q_man = get_man_location(Q_MAN)\n",
    "    p_foods = get_foods_location(P_FOOD)\n",
    "    q_foods = get_foods_location(Q_FOOD)\n",
    "    b_foods = get_foods_location(B_FOOD)\n",
    "    \n",
    "    return State(parent, depth, p_man, q_man, p_foods, q_foods, b_foods)"
   ]
  },
  {
   "cell_type": "markdown",
   "metadata": {},
   "source": [
    "### Actions\n",
    "For each pacman there are 4 available actions which means there are totally 8 actions.\n",
    "\n",
    "On each action one of the pacmans moves in up or right or down or left direction, then if there is legal pacman's food which are **1**, **3** for **P** pacman and **2**, **3** for **Q** pacman in the new position, agent eats the food and returns the new state, otherwise if there is illegal food or wall or other pacman in new location, action returns failure.\n",
    "\n",
    "The implementation of action functions are shown below. on each action function call, a new location for moving pacman is calculated. If the new location is verified by `validate_new_location` function, `apply_action` function will be called to get a new state based on the new position. At the end, new state is returned if it's validated otherwise None is returned."
   ]
  },
  {
   "cell_type": "code",
   "execution_count": 13,
   "metadata": {},
   "outputs": [],
   "source": [
    "def action_right(state, man):\n",
    "    new_x = None\n",
    "    new_y = None\n",
    "    \n",
    "    if(man == P_MAN):\n",
    "        new_x = state.p_man[0]\n",
    "        new_y = state.p_man[1] + 1\n",
    "    elif(man == Q_MAN):\n",
    "        new_x = state.q_man[0]\n",
    "        new_y = state.q_man[1] + 1\n",
    "    \n",
    "    if validate_new_location(state, man, new_x, new_y):\n",
    "        new_state = state.get_child()\n",
    "        new_state = apply_action(new_state, man, new_x, new_y)\n",
    "        return new_state\n",
    "    else:\n",
    "        return None"
   ]
  },
  {
   "cell_type": "code",
   "execution_count": 14,
   "metadata": {},
   "outputs": [],
   "source": [
    "def action_up(state, man):\n",
    "    new_x = None\n",
    "    new_y = None\n",
    "    \n",
    "    if(man == P_MAN):\n",
    "        new_x = state.p_man[0] - 1\n",
    "        new_y = state.p_man[1]\n",
    "    elif(man == Q_MAN):\n",
    "        new_x = state.q_man[0] - 1\n",
    "        new_y = state.q_man[1]\n",
    "    \n",
    "    if validate_new_location(state, man, new_x, new_y):\n",
    "        new_state = state.get_child()\n",
    "        new_state = apply_action(new_state, man, new_x, new_y)\n",
    "        return new_state\n",
    "    else:\n",
    "        return None"
   ]
  },
  {
   "cell_type": "code",
   "execution_count": 15,
   "metadata": {},
   "outputs": [],
   "source": [
    "def action_down(state, man):\n",
    "    new_x = None\n",
    "    new_y = None\n",
    "    \n",
    "    if(man == P_MAN):\n",
    "        new_x = state.p_man[0] + 1\n",
    "        new_y = state.p_man[1]\n",
    "    elif(man == Q_MAN):\n",
    "        new_x = state.q_man[0] + 1\n",
    "        new_y = state.q_man[1]\n",
    "    \n",
    "    if validate_new_location(state, man, new_x, new_y):\n",
    "        new_state = state.get_child()\n",
    "        new_state = apply_action(new_state, man, new_x, new_y)\n",
    "        return new_state\n",
    "    else:\n",
    "        return None"
   ]
  },
  {
   "cell_type": "code",
   "execution_count": 16,
   "metadata": {},
   "outputs": [],
   "source": [
    "def action_left(state, man):\n",
    "    new_x = None\n",
    "    new_y = None\n",
    "    \n",
    "    if(man == P_MAN):\n",
    "        new_x = state.p_man[0]\n",
    "        new_y = state.p_man[1] - 1\n",
    "    elif(man == Q_MAN):\n",
    "        new_x = state.q_man[0]\n",
    "        new_y = state.q_man[1] - 1\n",
    "    \n",
    "    if validate_new_location(state, man, new_x, new_y):\n",
    "        new_state = state.get_child()\n",
    "        new_state = apply_action(new_state, man, new_x, new_y)\n",
    "        return new_state\n",
    "    else:\n",
    "        return None"
   ]
  },
  {
   "cell_type": "markdown",
   "metadata": {},
   "source": [
    "The function below returns a list containing all validated states resulting from the given state's actions."
   ]
  },
  {
   "cell_type": "code",
   "execution_count": 17,
   "metadata": {},
   "outputs": [],
   "source": [
    "def make_actions(state):\n",
    "    children = []\n",
    "    actions = [action_right, action_down, action_left, action_up]\n",
    "        \n",
    "    for man in (P_MAN, Q_MAN):\n",
    "        for action in actions:\n",
    "            child_state = action(state, man)\n",
    "            if(child_state is not None):\n",
    "                children.append(child_state)\n",
    "\n",
    "    return children"
   ]
  },
  {
   "cell_type": "markdown",
   "metadata": {},
   "source": [
    "The following functions check the new location of the specified pacman. If the new location contains wall or other pacman or illegal food, it returns false otherwise it returns true."
   ]
  },
  {
   "cell_type": "code",
   "execution_count": 18,
   "metadata": {},
   "outputs": [],
   "source": [
    "def validate_new_location(state, man, new_x, new_y):\n",
    "    if (input_map[new_x][new_y] == WALL):\n",
    "        return False\n",
    "    elif (man == P_MAN and state.q_man == (new_x, new_y)):\n",
    "        return False\n",
    "    elif (man == Q_MAN and state.p_man == (new_x, new_y)):\n",
    "        return False\n",
    "    elif (man == P_MAN and (new_x, new_y) in state.q_foods):\n",
    "        return False\n",
    "    elif (man == Q_MAN and (new_x, new_y) in state.p_foods):\n",
    "        return False\n",
    "    return True"
   ]
  },
  {
   "cell_type": "markdown",
   "metadata": {},
   "source": [
    "We use the function below to apply action with new position. This function changes specified pacman location and removes food on new position if available."
   ]
  },
  {
   "cell_type": "code",
   "execution_count": 19,
   "metadata": {},
   "outputs": [],
   "source": [
    "def apply_action(state, man, new_x, new_y):\n",
    "    if (man == P_MAN):\n",
    "        if((new_x, new_y) in state.p_foods):\n",
    "            state.p_foods.remove((new_x, new_y))\n",
    "        elif((new_x, new_y) in state.b_foods):\n",
    "            state.b_foods.remove((new_x, new_y))\n",
    "        state.p_man = (new_x, new_y)\n",
    "    elif (man == Q_MAN):\n",
    "        if((new_x, new_y) in state.q_foods):\n",
    "            state.q_foods.remove((new_x, new_y))\n",
    "        elif((new_x, new_y) in state.b_foods):\n",
    "            state.b_foods.remove((new_x, new_y))\n",
    "        state.q_man = (new_x, new_y)\n",
    "    return state"
   ]
  },
  {
   "cell_type": "markdown",
   "metadata": {},
   "source": [
    "### Goal Test\n",
    "Goal state is a state which includes no food. \n",
    "\n",
    "\n",
    "The following function is used to recognize goal state. This functions checks if there is any food left by checking length of state's food lists."
   ]
  },
  {
   "cell_type": "code",
   "execution_count": 20,
   "metadata": {},
   "outputs": [],
   "source": [
    "def is_goal(state):\n",
    "    return len(state.p_foods) == 0 and len(state.q_foods) == 0 and len(state.b_foods) == 0"
   ]
  },
  {
   "cell_type": "markdown",
   "metadata": {},
   "source": [
    "### Path Cost\n",
    "Path cost of edges are considered 1 since each action has the same cost."
   ]
  },
  {
   "cell_type": "markdown",
   "metadata": {},
   "source": [
    "## Algorithms"
   ]
  },
  {
   "cell_type": "markdown",
   "metadata": {},
   "source": [
    "### Definitions"
   ]
  },
  {
   "cell_type": "markdown",
   "metadata": {},
   "source": [
    "**b**: branching factor <br />\n",
    "**d**: depth of the shallowest solution <br />\n",
    "**m**: maximum depth of the search tree"
   ]
  },
  {
   "cell_type": "markdown",
   "metadata": {},
   "source": [
    "### BFS\n",
    "Breadth-first search is a simple strategy in which the root node is expanded first, then all the\n",
    "successors of the root node are expanded next, then their successors, and so on. In general,\n",
    "all the nodes are expanded at a given depth in the search tree before any nodes at the next\n",
    "level are expanded.\n",
    "\n",
    "BFS uses memory space of O($b^d$) and time complexity of O($b^d$). BFS finds the optimal answer if all nodes have the path cost as 1 and is complete if b is finite."
   ]
  },
  {
   "cell_type": "markdown",
   "metadata": {},
   "source": [
    "We use the function below to implement the Breadth-first search algorithm. We first create an initial state with initial locations of pacmans and foods on map. We check if the initial state is goal in the beginning since we're checking being goal state on state's children which are created by state's actions to speed up the algorithm. A First-in First-out (FIFO) queue is used to select expanding node. On each state, results of state's actions are pushed to queue. By using the FIFO property of queue, nodes are expanded by the depth of reaching them in this situation. An explored set is used to keep visited states to prevent expanding repetitious states. When adding new states, new state is also added to explored state to also check duplicated state in frontier queue."
   ]
  },
  {
   "cell_type": "code",
   "execution_count": 21,
   "metadata": {},
   "outputs": [],
   "source": [
    "def bfs():    \n",
    "    initial_state = create_initial_state()\n",
    "    states_count = 1\n",
    "    \n",
    "    if(is_goal(initial_state)):\n",
    "        finalize(initial_state, states_count, states_count)\n",
    "        return\n",
    "    \n",
    "    frontier = collections.deque([initial_state])\n",
    "    explored = set()\n",
    "    \n",
    "    explored.add(initial_state)\n",
    "    \n",
    "    while(frontier):\n",
    "        state = frontier.popleft()\n",
    "        children = make_actions(state)\n",
    "        \n",
    "        for child_state in children:\n",
    "            states_count += 1\n",
    "            if(child_state not in explored): \n",
    "                if(is_goal(child_state)):\n",
    "                    finalize(child_state, states_count, len(explored))\n",
    "                    return\n",
    "                else:\n",
    "                    explored.add(child_state)\n",
    "                    frontier.append(child_state)"
   ]
  },
  {
   "cell_type": "markdown",
   "metadata": {},
   "source": [
    "Results"
   ]
  },
  {
   "cell_type": "code",
   "execution_count": 22,
   "metadata": {
    "scrolled": true
   },
   "outputs": [
    {
     "name": "stdout",
     "output_type": "stream",
     "text": [
      "Depth: 13\n",
      "States Count: 1017\n",
      "Unique States Count: 335\n",
      "Time: 0.05014801025390625 seconds\n"
     ]
    }
   ],
   "source": [
    "import time\n",
    "start_time = time.time()\n",
    "bfs()\n",
    "print(\"Time: %s seconds\" % (time.time() - start_time))"
   ]
  },
  {
   "cell_type": "markdown",
   "metadata": {},
   "source": [
    "## IDS\n",
    "Iterative deepening search (or iterative deepening depth-first search) is a general strategy,\n",
    "often used in combination with depth-first tree search, that finds the best depth limit. It does\n",
    "this by gradually increasing the limit—first 0, then 1, then 2, and so on—until a goal is found.\n",
    "\n",
    "IDS uses memory space of O($b.d$) and time complexity of O($b^d$) . IDS takes advantage of low memory space usage of dfs and optimality of bfs by iterating level-based."
   ]
  },
  {
   "cell_type": "markdown",
   "metadata": {},
   "source": [
    "The function below shows the implementation of Iterative deepening search algorithm. It uses `dls` function which is depth limited depth first search. dls uses stack as the frontier data structure. By using stack, state's child states are explored in the way that always the deepest state is explored. by using dls we have a limit on depth, if new state's depth is more than specified depth, it's not added to frontier. We also consider state depth to distinguish between duplicate states since an state in dfs can be explored with lower depth if there's a lower path to state in another branch of the starting state's node."
   ]
  },
  {
   "cell_type": "code",
   "execution_count": 23,
   "metadata": {},
   "outputs": [],
   "source": [
    "ids_states_count = 0\n",
    "ids_uniques_count = 0\n",
    "\n",
    "def ids():\n",
    "    global ids_states_count\n",
    "    global ids_uniques_count\n",
    "    ids_states_count = 0\n",
    "    ids_uniques_count = 0\n",
    "\n",
    "    result = None\n",
    "    depth = 0\n",
    "    \n",
    "    while result is None:\n",
    "        result = dls(depth)\n",
    "        depth += 1\n",
    "    \n",
    "    finalize(result, ids_states_count, ids_uniques_count)"
   ]
  },
  {
   "cell_type": "markdown",
   "metadata": {},
   "source": [
    "Depth limited search implementation:"
   ]
  },
  {
   "cell_type": "code",
   "execution_count": 24,
   "metadata": {},
   "outputs": [],
   "source": [
    "def dls(depth):\n",
    "    global ids_states_count\n",
    "    global ids_uniques_count\n",
    "    \n",
    "    initial_state = create_initial_state()\n",
    "    \n",
    "    if is_goal(initial_state):\n",
    "        return initial_node\n",
    "    \n",
    "    ids_states_count += 1\n",
    "    ids_uniques_count += 1\n",
    "\n",
    "    frontier = collections.deque([initial_state])\n",
    "    explored = set()\n",
    "    \n",
    "    while(frontier):\n",
    "        state = frontier.pop()\n",
    "        explored.add((state, state.depth))\n",
    "        \n",
    "        if(is_goal(state)):\n",
    "            return state\n",
    "        \n",
    "        if(state.depth < depth):\n",
    "            children = make_actions(state)\n",
    "\n",
    "            for child_state in children:\n",
    "                ids_states_count += 1\n",
    "                if((child_state, child_state.depth) not in explored): \n",
    "                    ids_uniques_count += 1\n",
    "                    frontier.append(child_state)"
   ]
  },
  {
   "cell_type": "markdown",
   "metadata": {},
   "source": [
    "Results:"
   ]
  },
  {
   "cell_type": "code",
   "execution_count": 25,
   "metadata": {},
   "outputs": [
    {
     "name": "stdout",
     "output_type": "stream",
     "text": [
      "Depth: 13\n",
      "States Count: 9883\n",
      "Unique States Count: 3078\n",
      "Time: 0.2217400074005127 seconds\n"
     ]
    }
   ],
   "source": [
    "import time\n",
    "start_time = time.time()\n",
    "ids()\n",
    "print(\"Time: %s seconds\" % (time.time() - start_time))"
   ]
  },
  {
   "cell_type": "markdown",
   "metadata": {},
   "source": [
    "## A*\n",
    "A* is an uninformed search algorithm which evaluates nodes by combining g(n), the cost to reach the node, and h(n), the cost to get from the node to the goal:"
   ]
  },
  {
   "cell_type": "markdown",
   "metadata": {},
   "source": [
    "$$f (n) = g(n) + h(n) $$"
   ]
  },
  {
   "cell_type": "markdown",
   "metadata": {},
   "source": [
    "f(n) is the estimated cost of the cheapest solution through n. We can select which node to expand by selecting the node which has the lowest f(node) function to find the cheapest solution. By using an admissible and consistent heuristic function in Graph search, A* search is both optimal and complete."
   ]
  },
  {
   "cell_type": "markdown",
   "metadata": {},
   "source": [
    "The heuristic function chosen in this problem is **minimum manhattan distance of nearest legal food to P and nearest legal food to Q**.\n",
    "\n",
    "This heuristic is admissible because in optimal solution doing any move adds one step to get closer to goal state and in further steps deleting foods in optimal path still gives an state in which the heuristic is still lower than the real path and we can never reach goal state with lower moves so this function never overestimates the real path cost to goal.\n",
    "\n",
    "To check consistency we can consider the relaxed problem of the given problem in which agent makes shortcut by removing walls in map. The exact solution to this relaxed problem gives the optimal heuristic for the given problem."
   ]
  },
  {
   "cell_type": "markdown",
   "metadata": {},
   "source": [
    "The implementation of A* search is shown in codes below:"
   ]
  },
  {
   "cell_type": "code",
   "execution_count": 26,
   "metadata": {},
   "outputs": [],
   "source": [
    "def is_valid_cord(state, cord):\n",
    "    return (cord[0] < len(input_map) and\n",
    "            cord[0] > 0 and\n",
    "            cord[1] < len(input_map[0]) and\n",
    "            cord[1] > 0)"
   ]
  },
  {
   "cell_type": "code",
   "execution_count": 27,
   "metadata": {},
   "outputs": [],
   "source": [
    "def get_manhattan_distance(cord1, cord2):\n",
    "    return abs(cord1[0] - cord2[0]) + abs(cord1[1] - cord2[1])"
   ]
  },
  {
   "cell_type": "markdown",
   "metadata": {},
   "source": [
    "A function which returns the minimum manhattan distance of nearest legal food to P and nearest legal food to Q which is used in heuristic function:"
   ]
  },
  {
   "cell_type": "code",
   "execution_count": 28,
   "metadata": {},
   "outputs": [],
   "source": [
    "def get_closest_food_distance(state):        \n",
    "    min_distance = math.inf\n",
    "    \n",
    "    for food in state.p_foods:\n",
    "        distance = get_manhattan_distance(state.p_man, food)\n",
    "        min_distance = min(min_distance, distance)\n",
    "       \n",
    "    for food in state.q_foods:\n",
    "        distance = get_manhattan_distance(state.q_man, food)\n",
    "        min_distance = min(min_distance, distance)\n",
    "            \n",
    "    for man in (state.p_man, state.q_man):\n",
    "        for food in state.b_foods:\n",
    "            distance = get_manhattan_distance(man, food)\n",
    "            min_distance = min(min_distance, distance)\n",
    "        \n",
    "    return min_distance"
   ]
  },
  {
   "cell_type": "code",
   "execution_count": 29,
   "metadata": {},
   "outputs": [],
   "source": [
    "def get_heuristic(state):\n",
    "    return get_closest_food_distance(state)"
   ]
  },
  {
   "cell_type": "markdown",
   "metadata": {},
   "source": [
    "A* implementation is shown below. It uses a priority queue to select next node to expand by using the `__lt__` function in State class which represents the f(n) function of node n."
   ]
  },
  {
   "cell_type": "code",
   "execution_count": 30,
   "metadata": {},
   "outputs": [],
   "source": [
    "from queue import PriorityQueue\n",
    "\n",
    "def a_star():\n",
    "    initial_state = create_initial_state()\n",
    "    states_count = 1\n",
    "    \n",
    "    if(is_goal(initial_state)):\n",
    "        finalize(initial_state, states_count, states_count)\n",
    "        return\n",
    "        \n",
    "    frontier = PriorityQueue()\n",
    "    frontier.put(initial_state)\n",
    "    \n",
    "    explored = set()\n",
    "    explored.add(initial_state)\n",
    "    \n",
    "    while(not frontier.empty()):\n",
    "        state = frontier.get()\n",
    "        children = make_actions(state)\n",
    "        \n",
    "        for child_state in children:\n",
    "            states_count += 1\n",
    "            if(child_state not in explored):  \n",
    "                if(is_goal(child_state)):\n",
    "                    finalize(child_state, states_count, len(explored))\n",
    "                    return\n",
    "                else:\n",
    "                    explored.add(child_state)\n",
    "                    frontier.put(child_state)"
   ]
  },
  {
   "cell_type": "markdown",
   "metadata": {},
   "source": [
    "Results:"
   ]
  },
  {
   "cell_type": "code",
   "execution_count": 31,
   "metadata": {},
   "outputs": [
    {
     "name": "stdout",
     "output_type": "stream",
     "text": [
      "Depth: 13\n",
      "States Count: 701\n",
      "Unique States Count: 240\n",
      "Time: 0.05320858955383301 seconds\n"
     ]
    }
   ],
   "source": [
    "import time\n",
    "start_time = time.time()\n",
    "a_star()\n",
    "print(\"Time: %s seconds\" % (time.time() - start_time))"
   ]
  },
  {
   "cell_type": "markdown",
   "metadata": {},
   "source": [
    "## Results\n",
    "(Values in parantheses for IDS row indicate only states count on optimal depth)"
   ]
  },
  {
   "cell_type": "markdown",
   "metadata": {},
   "source": [
    "### test 1"
   ]
  },
  {
   "cell_type": "markdown",
   "metadata": {},
   "source": [
    "| Algorithm  | Answer Depth | Visited States | Unique Visited States | Execution time |\n",
    "| :--------: | :----------: | :------------: | :-------------------: | :------------: |\n",
    "| BFS        | 33           | 650908         | 143043                | 12.9154s       |\n",
    "| IDS        | 33           | 19389321 (1410451)      | 4542797 (320892)              | 387.1376s      |\n",
    "| A*         | 33           | 505871        | 118879                | 17.8117s       |"
   ]
  },
  {
   "cell_type": "markdown",
   "metadata": {},
   "source": [
    "### test 2"
   ]
  },
  {
   "cell_type": "markdown",
   "metadata": {},
   "source": [
    "| Algorithm  | Answer Depth | Visited States | Unique Visited States | Execution time |\n",
    "| :--------: | :----------: | :------------: | :-------------------: | :------------: |\n",
    "| BFS        | 17           | 14919          | 3537                  | 0.3049s        |\n",
    "| IDS        | 17           | 151182 (37246) | 39764 (9239)          | 3.0607s        |\n",
    "| A*         | 17           | 11289          | 3002                  | 0.3622s        |"
   ]
  },
  {
   "cell_type": "markdown",
   "metadata": {},
   "source": [
    "### test 3"
   ]
  },
  {
   "cell_type": "markdown",
   "metadata": {},
   "source": [
    "| Algorithm  | Answer Depth | Visited States | Unique Visited States | Execution time |\n",
    "| :--------: | :----------: | :------------: | :-------------------: | :------------: |\n",
    "| BFS        | 20           | 9691           | 2522                  | 0.1777s        |\n",
    "| IDS        | 20           | 160408 (15646) | 45705 (4362)          | 2.9035s        |\n",
    "| A*         | 20           | 6080           | 1814                  | 0.1781s        |"
   ]
  },
  {
   "cell_type": "markdown",
   "metadata": {},
   "source": [
    "### test 4"
   ]
  },
  {
   "cell_type": "markdown",
   "metadata": {},
   "source": [
    "| Algorithm  | Answer Depth | Visited States | Unique Visited States | Execution time |\n",
    "| :--------: | :----------: | :------------: | :-------------------: | :------------: |\n",
    "| BFS        | 17           | 49466          | 11087                 | 0.8730s        |\n",
    "| IDS        | 17           | 380146 (62933) | 92534 (15508)         | 6.9473s        |\n",
    "| A*         | 17           | 17903          | 4973                  | 0.4953s        |"
   ]
  },
  {
   "cell_type": "markdown",
   "metadata": {},
   "source": [
    "### test 5"
   ]
  },
  {
   "cell_type": "markdown",
   "metadata": {},
   "source": [
    "| Algorithm  | Answer Depth | Visited States | Unique Visited States | Execution time |\n",
    "| :--------: | :----------: | :------------: | :-------------------: | :------------: |\n",
    "| BFS        | 13           | 1017           | 335                   | 0.0333s        |\n",
    "| IDS        | 13           | 9883 (1667)    | 3078 (525)            | 0.2171s        |\n",
    "| A*         | 13           | 701            | 240                   | 0.0310s        |"
   ]
  },
  {
   "cell_type": "markdown",
   "metadata": {},
   "source": [
    "## Diagrams"
   ]
  },
  {
   "cell_type": "code",
   "execution_count": 32,
   "metadata": {},
   "outputs": [],
   "source": [
    "from matplotlib import pyplot as plt"
   ]
  },
  {
   "cell_type": "markdown",
   "metadata": {},
   "source": [
    "### BFS"
   ]
  },
  {
   "cell_type": "code",
   "execution_count": 33,
   "metadata": {},
   "outputs": [
    {
     "data": {
      "image/png": "[encoded data removed]",
      "text/plain": [
       "<Figure size 432x288 with 1 Axes>"
      ]
     },
     "metadata": {
      "needs_background": "light"
     },
     "output_type": "display_data"
    }
   ],
   "source": [
    "depths = [13, 17, 17, 20, 33]\n",
    "times = [0.0333, 0.3049, 0.8730, 0.1777, 12.9154]\n",
    "\n",
    "plt.xlabel(\"Depth\")\n",
    "plt.ylabel(\"Time (s)\")\n",
    "plt.title(\"Depth and Time Diagram for Tests with BFS\")\n",
    "\n",
    "plt.plot(depths, times, '-o')\n",
    "plt.show()"
   ]
  },
  {
   "cell_type": "markdown",
   "metadata": {},
   "source": [
    "### IDS"
   ]
  },
  {
   "cell_type": "code",
   "execution_count": 34,
   "metadata": {},
   "outputs": [
    {
     "data": {
      "image/png": "[encoded data removed]",
      "text/plain": [
       "<Figure size 432x288 with 1 Axes>"
      ]
     },
     "metadata": {
      "needs_background": "light"
     },
     "output_type": "display_data"
    }
   ],
   "source": [
    "depths = [13, 17, 17, 20, 33]\n",
    "times = [0.2171, 3.0607, 6.9473, 2.9035, 387.1376]\n",
    "\n",
    "plt.xlabel(\"Depth\")\n",
    "plt.ylabel(\"Time (s)\")\n",
    "plt.title(\"Depth and Time Diagram for Tests with IDS\")\n",
    "\n",
    "plt.plot(depths, times, '-o')\n",
    "plt.show()"
   ]
  },
  {
   "cell_type": "markdown",
   "metadata": {},
   "source": [
    "### A*"
   ]
  },
  {
   "cell_type": "code",
   "execution_count": 35,
   "metadata": {},
   "outputs": [
    {
     "data": {
      "image/png": "[encoded data removed]",
      "text/plain": [
       "<Figure size 432x288 with 1 Axes>"
      ]
     },
     "metadata": {
      "needs_background": "light"
     },
     "output_type": "display_data"
    }
   ],
   "source": [
    "depths = [13, 17, 17, 20, 33]\n",
    "times = [0.0310, 0.3622, 0.4953, 0.1781, 17.8117]\n",
    "\n",
    "plt.xlabel(\"Depth\")\n",
    "plt.ylabel(\"Time (s)\")\n",
    "plt.title(\"Depth and Time Diagram for Tests with A*\")\n",
    "\n",
    "plt.plot(depths, times, '-o')\n",
    "plt.show()"
   ]
  },
  {
   "cell_type": "markdown",
   "metadata": {},
   "source": [
    "## Conclusion\n",
    "As we can see, BFS and IDS algorithms always find the optimal solution if path costs are equal to 1. Both BFS and IDS algorithms have time complexity of O($b^d$). IDS takes more time in comparison to BFS since It revisits some states on each iteration of algorithm on specified depth. On the other hand IDS only uses memory space of O(b.d) which is too much more efficient than BFS which uses O($b^d$) memory space. A* with an admissible and consistent heuristic always finds the optimal path in minimum steps. In all tests A* has expanded less states to find the optimal path. Due to optimality in all algorithms number of steps to reach the goal is equal to the optimal number of steps to reach the goal which is shown in tables."
   ]
  }
 ],
 "metadata": {
  "kernelspec": {
   "display_name": "Python 3",
   "language": "python",
   "name": "python3"
  },
  "language_info": {
   "codemirror_mode": {
    "name": "ipython",
    "version": 3
   },
   "file_extension": ".py",
   "mimetype": "text/x-python",
   "name": "python",
   "nbconvert_exporter": "python",
   "pygments_lexer": "ipython3",
   "version": "3.6.8"
  }
 },
 "nbformat": 4,
 "nbformat_minor": 2
}
